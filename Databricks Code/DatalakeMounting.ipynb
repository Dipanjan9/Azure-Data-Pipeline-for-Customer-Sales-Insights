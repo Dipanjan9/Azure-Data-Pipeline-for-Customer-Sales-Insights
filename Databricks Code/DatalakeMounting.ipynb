{
 "cells": [
  {
   "cell_type": "code",
   "execution_count": 0,
   "metadata": {
    "application/vnd.databricks.v1+cell": {
     "cellMetadata": {
      "byteLimit": 2048000,
      "rowLimit": 10000
     },
     "inputWidgets": {},
     "nuid": "9ec5a32d-c266-4406-a82c-d337f74aa929",
     "showTitle": false,
     "tableResultSettingsMap": {},
     "title": ""
    }
   },
   "outputs": [
    {
     "output_type": "execute_result",
     "data": {
      "text/plain": [
       "True"
      ]
     },
     "execution_count": 1,
     "metadata": {},
     "output_type": "execute_result"
    }
   ],
   "source": [
    "configs = {\n",
    "    \"fs.azure.account.auth.type\": \"CustomAccessToken\",\n",
    "    \"fs.azure.account.custom.token.provider.class\": spark.conf.get(\"spark.databricks.passthrough.adls.gen2.tokenProviderClassName\")\n",
    "}\n",
    "\n",
    "dbutils.fs.mount(\n",
    "    source=\"abfss://bronze@datalake2298.dfs.core.windows.net/\",\n",
    "    mount_point=\"/mnt/bronze\",\n",
    "    extra_configs=configs\n",
    ")\n",
    "\n",
    "dbutils.fs.mount(\n",
    "    source=\"abfss://silver@datalake2298.dfs.core.windows.net/\",\n",
    "    mount_point=\"/mnt/silver\",\n",
    "    extra_configs=configs\n",
    ")\n",
    "\n",
    "dbutils.fs.mount(\n",
    "    source=\"abfss://gold@datalake2298.dfs.core.windows.net/\",\n",
    "    mount_point=\"/mnt/gold\",\n",
    "    extra_configs=configs\n",
    ")"
   ]
  }
 ],
 "metadata": {
  "application/vnd.databricks.v1+notebook": {
   "dashboards": [],
   "environmentMetadata": {
    "base_environment": "",
    "client": "1"
   },
   "language": "python",
   "notebookMetadata": {
    "pythonIndentUnit": 2
   },
   "notebookName": "DatalakeMounting",
   "widgets": {}
  },
  "language_info": {
   "name": "python"
  }
 },
 "nbformat": 4,
 "nbformat_minor": 0
}